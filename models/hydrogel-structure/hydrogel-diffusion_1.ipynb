version https://git-lfs.github.com/spec/v1
oid sha256:4337bea9250b0bdab020db10b1d80a410f2027afb427ef674f71997ef654328b
size 113242
